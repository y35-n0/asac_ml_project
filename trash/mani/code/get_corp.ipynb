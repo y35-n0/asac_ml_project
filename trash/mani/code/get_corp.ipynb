{
 "cells": [
  {
   "cell_type": "code",
   "execution_count": 1,
   "metadata": {},
   "outputs": [],
   "source": [
    "import pandas as pd\n",
    "import re"
   ]
  },
  {
   "cell_type": "markdown",
   "metadata": {},
   "source": [
    "LOAD CORP LIST"
   ]
  },
  {
   "cell_type": "code",
   "execution_count": 2,
   "metadata": {},
   "outputs": [
    {
     "data": {
      "text/plain": [
       "(2542, 9)"
      ]
     },
     "execution_count": 2,
     "metadata": {},
     "output_type": "execute_result"
    }
   ],
   "source": [
    "corp_df = pd.read_csv('../../data/preprocessed/상장법인목록.csv',\n",
    "                      dtype=object)\n",
    "corp_df.shape"
   ]
  },
  {
   "cell_type": "code",
   "execution_count": 3,
   "metadata": {},
   "outputs": [
    {
     "data": {
      "text/html": [
       "<div>\n",
       "<style scoped>\n",
       "    .dataframe tbody tr th:only-of-type {\n",
       "        vertical-align: middle;\n",
       "    }\n",
       "\n",
       "    .dataframe tbody tr th {\n",
       "        vertical-align: top;\n",
       "    }\n",
       "\n",
       "    .dataframe thead th {\n",
       "        text-align: right;\n",
       "    }\n",
       "</style>\n",
       "<table border=\"1\" class=\"dataframe\">\n",
       "  <thead>\n",
       "    <tr style=\"text-align: right;\">\n",
       "      <th></th>\n",
       "      <th>회사명</th>\n",
       "      <th>종목코드</th>\n",
       "      <th>업종</th>\n",
       "      <th>주요제품</th>\n",
       "      <th>상장일</th>\n",
       "      <th>결산월</th>\n",
       "      <th>대표자명</th>\n",
       "      <th>홈페이지</th>\n",
       "      <th>지역</th>\n",
       "    </tr>\n",
       "  </thead>\n",
       "  <tbody>\n",
       "    <tr>\n",
       "      <th>0</th>\n",
       "      <td>탈로스</td>\n",
       "      <td>434190</td>\n",
       "      <td>일차전지 및 축전지 제조업</td>\n",
       "      <td>군용 리튬이온 이차전지</td>\n",
       "      <td>2022-10-24</td>\n",
       "      <td>12월</td>\n",
       "      <td>채재호</td>\n",
       "      <td>http://www.talos.or.kr</td>\n",
       "      <td>경기도</td>\n",
       "    </tr>\n",
       "    <tr>\n",
       "      <th>1</th>\n",
       "      <td>플라즈맵</td>\n",
       "      <td>405000</td>\n",
       "      <td>의료용 기기 제조업</td>\n",
       "      <td>플라즈마 멸균기 및 표면처리기기</td>\n",
       "      <td>2022-10-21</td>\n",
       "      <td>12월</td>\n",
       "      <td>임유봉</td>\n",
       "      <td>http://plasmapp.com/</td>\n",
       "      <td>대전광역시</td>\n",
       "    </tr>\n",
       "    <tr>\n",
       "      <th>2</th>\n",
       "      <td>엔에이치스팩24호</td>\n",
       "      <td>437780</td>\n",
       "      <td>금융 지원 서비스업</td>\n",
       "      <td>기업인수합병</td>\n",
       "      <td>2022-10-20</td>\n",
       "      <td>12월</td>\n",
       "      <td>이인직</td>\n",
       "      <td>NaN</td>\n",
       "      <td>서울특별시</td>\n",
       "    </tr>\n",
       "    <tr>\n",
       "      <th>3</th>\n",
       "      <td>핀텔</td>\n",
       "      <td>291810</td>\n",
       "      <td>소프트웨어 개발 및 공급업</td>\n",
       "      <td>AI 영상 분석 솔루션 및 소프트웨어</td>\n",
       "      <td>2022-10-20</td>\n",
       "      <td>12월</td>\n",
       "      <td>김동기</td>\n",
       "      <td>NaN</td>\n",
       "      <td>경기도</td>\n",
       "    </tr>\n",
       "    <tr>\n",
       "      <th>4</th>\n",
       "      <td>하나금융25호스팩</td>\n",
       "      <td>435620</td>\n",
       "      <td>금융 지원 서비스업</td>\n",
       "      <td>기업인수합병</td>\n",
       "      <td>2022-10-20</td>\n",
       "      <td>12월</td>\n",
       "      <td>남강욱</td>\n",
       "      <td>NaN</td>\n",
       "      <td>서울특별시</td>\n",
       "    </tr>\n",
       "  </tbody>\n",
       "</table>\n",
       "</div>"
      ],
      "text/plain": [
       "         회사명    종목코드              업종                  주요제품         상장일  결산월  \\\n",
       "0        탈로스  434190  일차전지 및 축전지 제조업          군용 리튬이온 이차전지  2022-10-24  12월   \n",
       "1       플라즈맵  405000      의료용 기기 제조업     플라즈마 멸균기 및 표면처리기기  2022-10-21  12월   \n",
       "2  엔에이치스팩24호  437780      금융 지원 서비스업                기업인수합병  2022-10-20  12월   \n",
       "3         핀텔  291810  소프트웨어 개발 및 공급업  AI 영상 분석 솔루션 및 소프트웨어  2022-10-20  12월   \n",
       "4  하나금융25호스팩  435620      금융 지원 서비스업                기업인수합병  2022-10-20  12월   \n",
       "\n",
       "  대표자명                    홈페이지     지역  \n",
       "0  채재호  http://www.talos.or.kr    경기도  \n",
       "1  임유봉    http://plasmapp.com/  대전광역시  \n",
       "2  이인직                     NaN  서울특별시  \n",
       "3  김동기                     NaN    경기도  \n",
       "4  남강욱                     NaN  서울특별시  "
      ]
     },
     "execution_count": 3,
     "metadata": {},
     "output_type": "execute_result"
    }
   ],
   "source": [
    "corp_df.head()"
   ]
  },
  {
   "cell_type": "code",
   "execution_count": 4,
   "metadata": {},
   "outputs": [
    {
     "name": "stdout",
     "output_type": "stream",
     "text": [
      "<class 'pandas.core.frame.DataFrame'>\n",
      "RangeIndex: 2542 entries, 0 to 2541\n",
      "Data columns (total 9 columns):\n",
      " #   Column  Non-Null Count  Dtype \n",
      "---  ------  --------------  ----- \n",
      " 0   회사명     2542 non-null   object\n",
      " 1   종목코드    2542 non-null   object\n",
      " 2   업종      2542 non-null   object\n",
      " 3   주요제품    2527 non-null   object\n",
      " 4   상장일     2542 non-null   object\n",
      " 5   결산월     2542 non-null   object\n",
      " 6   대표자명    2542 non-null   object\n",
      " 7   홈페이지    2377 non-null   object\n",
      " 8   지역      2541 non-null   object\n",
      "dtypes: object(9)\n",
      "memory usage: 178.9+ KB\n"
     ]
    }
   ],
   "source": [
    "corp_df.info()"
   ]
  },
  {
   "cell_type": "code",
   "execution_count": 5,
   "metadata": {},
   "outputs": [
    {
     "data": {
      "text/html": [
       "<div>\n",
       "<style scoped>\n",
       "    .dataframe tbody tr th:only-of-type {\n",
       "        vertical-align: middle;\n",
       "    }\n",
       "\n",
       "    .dataframe tbody tr th {\n",
       "        vertical-align: top;\n",
       "    }\n",
       "\n",
       "    .dataframe thead th {\n",
       "        text-align: right;\n",
       "    }\n",
       "</style>\n",
       "<table border=\"1\" class=\"dataframe\">\n",
       "  <thead>\n",
       "    <tr style=\"text-align: right;\">\n",
       "      <th></th>\n",
       "      <th>회사명</th>\n",
       "      <th>종목코드</th>\n",
       "      <th>업종</th>\n",
       "      <th>주요제품</th>\n",
       "      <th>상장일</th>\n",
       "      <th>결산월</th>\n",
       "      <th>대표자명</th>\n",
       "      <th>홈페이지</th>\n",
       "      <th>지역</th>\n",
       "    </tr>\n",
       "  </thead>\n",
       "  <tbody>\n",
       "    <tr>\n",
       "      <th>count</th>\n",
       "      <td>2542</td>\n",
       "      <td>2542</td>\n",
       "      <td>2542</td>\n",
       "      <td>2527</td>\n",
       "      <td>2542</td>\n",
       "      <td>2542</td>\n",
       "      <td>2542</td>\n",
       "      <td>2377</td>\n",
       "      <td>2541</td>\n",
       "    </tr>\n",
       "    <tr>\n",
       "      <th>unique</th>\n",
       "      <td>2542</td>\n",
       "      <td>2542</td>\n",
       "      <td>161</td>\n",
       "      <td>2358</td>\n",
       "      <td>1886</td>\n",
       "      <td>9</td>\n",
       "      <td>2418</td>\n",
       "      <td>2355</td>\n",
       "      <td>22</td>\n",
       "    </tr>\n",
       "    <tr>\n",
       "      <th>top</th>\n",
       "      <td>탈로스</td>\n",
       "      <td>434190</td>\n",
       "      <td>소프트웨어 개발 및 공급업</td>\n",
       "      <td>기업인수합병</td>\n",
       "      <td>1976-06-30</td>\n",
       "      <td>12월</td>\n",
       "      <td>-</td>\n",
       "      <td>http://www.ibks.com</td>\n",
       "      <td>서울특별시</td>\n",
       "    </tr>\n",
       "    <tr>\n",
       "      <th>freq</th>\n",
       "      <td>1</td>\n",
       "      <td>1</td>\n",
       "      <td>158</td>\n",
       "      <td>32</td>\n",
       "      <td>8</td>\n",
       "      <td>2482</td>\n",
       "      <td>5</td>\n",
       "      <td>3</td>\n",
       "      <td>1036</td>\n",
       "    </tr>\n",
       "  </tbody>\n",
       "</table>\n",
       "</div>"
      ],
      "text/plain": [
       "         회사명    종목코드              업종    주요제품         상장일   결산월  대표자명  \\\n",
       "count   2542    2542            2542    2527        2542  2542  2542   \n",
       "unique  2542    2542             161    2358        1886     9  2418   \n",
       "top      탈로스  434190  소프트웨어 개발 및 공급업  기업인수합병  1976-06-30   12월     -   \n",
       "freq       1       1             158      32           8  2482     5   \n",
       "\n",
       "                       홈페이지     지역  \n",
       "count                  2377   2541  \n",
       "unique                 2355     22  \n",
       "top     http://www.ibks.com  서울특별시  \n",
       "freq                      3   1036  "
      ]
     },
     "execution_count": 5,
     "metadata": {},
     "output_type": "execute_result"
    }
   ],
   "source": [
    "corp_df.describe()"
   ]
  },
  {
   "cell_type": "markdown",
   "metadata": {},
   "source": [
    "LOAD CLASS"
   ]
  },
  {
   "cell_type": "code",
   "execution_count": 6,
   "metadata": {},
   "outputs": [
    {
     "data": {
      "text/plain": [
       "(232, 3)"
      ]
     },
     "execution_count": 6,
     "metadata": {},
     "output_type": "execute_result"
    }
   ],
   "source": [
    "class_df = pd.read_excel('../../data/origin/kostat/한국표준산업분류(10차)_표.xlsx',\n",
    "                         usecols=range(1, 6, 2), skiprows=2)\n",
    "class_df = class_df.drop_duplicates()\n",
    "class_df = class_df.fillna(method='ffill')\n",
    "class_df = class_df.drop_duplicates()\n",
    "class_df = class_df.replace(r'\\(.+\\)', '', regex=True)\n",
    "class_df.columns = ['업종대분류', '업종중분류', '업종소분류']\n",
    "\n",
    "class_df.shape"
   ]
  },
  {
   "cell_type": "code",
   "execution_count": 7,
   "metadata": {},
   "outputs": [
    {
     "data": {
      "text/html": [
       "<div>\n",
       "<style scoped>\n",
       "    .dataframe tbody tr th:only-of-type {\n",
       "        vertical-align: middle;\n",
       "    }\n",
       "\n",
       "    .dataframe tbody tr th {\n",
       "        vertical-align: top;\n",
       "    }\n",
       "\n",
       "    .dataframe thead th {\n",
       "        text-align: right;\n",
       "    }\n",
       "</style>\n",
       "<table border=\"1\" class=\"dataframe\">\n",
       "  <thead>\n",
       "    <tr style=\"text-align: right;\">\n",
       "      <th></th>\n",
       "      <th>업종대분류</th>\n",
       "      <th>업종중분류</th>\n",
       "      <th>업종소분류</th>\n",
       "    </tr>\n",
       "  </thead>\n",
       "  <tbody>\n",
       "    <tr>\n",
       "      <th>0</th>\n",
       "      <td>농업, 임업 및 어업</td>\n",
       "      <td>농업</td>\n",
       "      <td>작물 재배업</td>\n",
       "    </tr>\n",
       "    <tr>\n",
       "      <th>10</th>\n",
       "      <td>농업, 임업 및 어업</td>\n",
       "      <td>농업</td>\n",
       "      <td>축산업</td>\n",
       "    </tr>\n",
       "    <tr>\n",
       "      <th>17</th>\n",
       "      <td>농업, 임업 및 어업</td>\n",
       "      <td>농업</td>\n",
       "      <td>작물재배 및 축산 복합농업</td>\n",
       "    </tr>\n",
       "    <tr>\n",
       "      <th>18</th>\n",
       "      <td>농업, 임업 및 어업</td>\n",
       "      <td>농업</td>\n",
       "      <td>작물재배 및 축산 관련 서비스업</td>\n",
       "    </tr>\n",
       "    <tr>\n",
       "      <th>21</th>\n",
       "      <td>농업, 임업 및 어업</td>\n",
       "      <td>농업</td>\n",
       "      <td>수렵 및 관련 서비스업</td>\n",
       "    </tr>\n",
       "  </tbody>\n",
       "</table>\n",
       "</div>"
      ],
      "text/plain": [
       "          업종대분류 업종중분류              업종소분류\n",
       "0   농업, 임업 및 어업    농업             작물 재배업\n",
       "10  농업, 임업 및 어업    농업                축산업\n",
       "17  농업, 임업 및 어업    농업     작물재배 및 축산 복합농업\n",
       "18  농업, 임업 및 어업    농업  작물재배 및 축산 관련 서비스업\n",
       "21  농업, 임업 및 어업    농업       수렵 및 관련 서비스업"
      ]
     },
     "execution_count": 7,
     "metadata": {},
     "output_type": "execute_result"
    }
   ],
   "source": [
    "class_df.head()"
   ]
  },
  {
   "cell_type": "code",
   "execution_count": 8,
   "metadata": {},
   "outputs": [
    {
     "name": "stdout",
     "output_type": "stream",
     "text": [
      "<class 'pandas.core.frame.DataFrame'>\n",
      "Int64Index: 232 entries, 0 to 1195\n",
      "Data columns (total 3 columns):\n",
      " #   Column  Non-Null Count  Dtype \n",
      "---  ------  --------------  ----- \n",
      " 0   업종대분류   232 non-null    object\n",
      " 1   업종중분류   232 non-null    object\n",
      " 2   업종소분류   232 non-null    object\n",
      "dtypes: object(3)\n",
      "memory usage: 7.2+ KB\n"
     ]
    }
   ],
   "source": [
    "class_df.info()"
   ]
  },
  {
   "cell_type": "code",
   "execution_count": 9,
   "metadata": {},
   "outputs": [
    {
     "data": {
      "text/html": [
       "<div>\n",
       "<style scoped>\n",
       "    .dataframe tbody tr th:only-of-type {\n",
       "        vertical-align: middle;\n",
       "    }\n",
       "\n",
       "    .dataframe tbody tr th {\n",
       "        vertical-align: top;\n",
       "    }\n",
       "\n",
       "    .dataframe thead th {\n",
       "        text-align: right;\n",
       "    }\n",
       "</style>\n",
       "<table border=\"1\" class=\"dataframe\">\n",
       "  <thead>\n",
       "    <tr style=\"text-align: right;\">\n",
       "      <th></th>\n",
       "      <th>업종대분류</th>\n",
       "      <th>업종중분류</th>\n",
       "      <th>업종소분류</th>\n",
       "    </tr>\n",
       "  </thead>\n",
       "  <tbody>\n",
       "    <tr>\n",
       "      <th>count</th>\n",
       "      <td>232</td>\n",
       "      <td>232</td>\n",
       "      <td>232</td>\n",
       "    </tr>\n",
       "    <tr>\n",
       "      <th>unique</th>\n",
       "      <td>21</td>\n",
       "      <td>77</td>\n",
       "      <td>232</td>\n",
       "    </tr>\n",
       "    <tr>\n",
       "      <th>top</th>\n",
       "      <td>제조업</td>\n",
       "      <td>소매업; 자동차 제외</td>\n",
       "      <td>작물 재배업</td>\n",
       "    </tr>\n",
       "    <tr>\n",
       "      <th>freq</th>\n",
       "      <td>85</td>\n",
       "      <td>9</td>\n",
       "      <td>1</td>\n",
       "    </tr>\n",
       "  </tbody>\n",
       "</table>\n",
       "</div>"
      ],
      "text/plain": [
       "       업종대분류        업종중분류   업종소분류\n",
       "count    232          232     232\n",
       "unique    21           77     232\n",
       "top      제조업  소매업; 자동차 제외  작물 재배업\n",
       "freq      85            9       1"
      ]
     },
     "execution_count": 9,
     "metadata": {},
     "output_type": "execute_result"
    }
   ],
   "source": [
    "class_df.describe()"
   ]
  },
  {
   "cell_type": "markdown",
   "metadata": {},
   "source": [
    "MERGE DFs"
   ]
  },
  {
   "cell_type": "code",
   "execution_count": 10,
   "metadata": {},
   "outputs": [
    {
     "data": {
      "text/plain": [
       "(2542, 11)"
      ]
     },
     "execution_count": 10,
     "metadata": {},
     "output_type": "execute_result"
    }
   ],
   "source": [
    "regex_corp_df = corp_df.copy()\n",
    "regex_corp_df['regex_업종'] = regex_corp_df['업종'].replace(r'\\W', '', regex=True)\n",
    "\n",
    "regex_class_df = class_df.copy()\n",
    "regex_class_df['regex_업종소분류'] = regex_class_df['업종소분류'].replace(r'[\\W|ㆍ]', '', regex=True)\n",
    "\n",
    "merged_df = pd.merge(regex_corp_df, regex_class_df, how='left', left_on='regex_업종', right_on='regex_업종소분류')\n",
    "merged_df = merged_df.drop(['업종', 'regex_업종', 'regex_업종소분류'], axis=1)\n",
    "merged_df.shape"
   ]
  },
  {
   "cell_type": "code",
   "execution_count": 11,
   "metadata": {},
   "outputs": [
    {
     "data": {
      "text/html": [
       "<div>\n",
       "<style scoped>\n",
       "    .dataframe tbody tr th:only-of-type {\n",
       "        vertical-align: middle;\n",
       "    }\n",
       "\n",
       "    .dataframe tbody tr th {\n",
       "        vertical-align: top;\n",
       "    }\n",
       "\n",
       "    .dataframe thead th {\n",
       "        text-align: right;\n",
       "    }\n",
       "</style>\n",
       "<table border=\"1\" class=\"dataframe\">\n",
       "  <thead>\n",
       "    <tr style=\"text-align: right;\">\n",
       "      <th></th>\n",
       "      <th>회사명</th>\n",
       "      <th>종목코드</th>\n",
       "      <th>주요제품</th>\n",
       "      <th>상장일</th>\n",
       "      <th>결산월</th>\n",
       "      <th>대표자명</th>\n",
       "      <th>홈페이지</th>\n",
       "      <th>지역</th>\n",
       "      <th>업종대분류</th>\n",
       "      <th>업종중분류</th>\n",
       "      <th>업종소분류</th>\n",
       "    </tr>\n",
       "  </thead>\n",
       "  <tbody>\n",
       "    <tr>\n",
       "      <th>0</th>\n",
       "      <td>탈로스</td>\n",
       "      <td>434190</td>\n",
       "      <td>군용 리튬이온 이차전지</td>\n",
       "      <td>2022-10-24</td>\n",
       "      <td>12월</td>\n",
       "      <td>채재호</td>\n",
       "      <td>http://www.talos.or.kr</td>\n",
       "      <td>경기도</td>\n",
       "      <td>제조업</td>\n",
       "      <td>전기장비 제조업</td>\n",
       "      <td>일차전지 및 축전지 제조업</td>\n",
       "    </tr>\n",
       "    <tr>\n",
       "      <th>1</th>\n",
       "      <td>플라즈맵</td>\n",
       "      <td>405000</td>\n",
       "      <td>플라즈마 멸균기 및 표면처리기기</td>\n",
       "      <td>2022-10-21</td>\n",
       "      <td>12월</td>\n",
       "      <td>임유봉</td>\n",
       "      <td>http://plasmapp.com/</td>\n",
       "      <td>대전광역시</td>\n",
       "      <td>제조업</td>\n",
       "      <td>의료, 정밀, 광학 기기 및 시계 제조업</td>\n",
       "      <td>의료용 기기 제조업</td>\n",
       "    </tr>\n",
       "    <tr>\n",
       "      <th>2</th>\n",
       "      <td>엔에이치스팩24호</td>\n",
       "      <td>437780</td>\n",
       "      <td>기업인수합병</td>\n",
       "      <td>2022-10-20</td>\n",
       "      <td>12월</td>\n",
       "      <td>이인직</td>\n",
       "      <td>NaN</td>\n",
       "      <td>서울특별시</td>\n",
       "      <td>금융 및 보험업</td>\n",
       "      <td>금융 및 보험관련 서비스업</td>\n",
       "      <td>금융 지원 서비스업</td>\n",
       "    </tr>\n",
       "    <tr>\n",
       "      <th>3</th>\n",
       "      <td>핀텔</td>\n",
       "      <td>291810</td>\n",
       "      <td>AI 영상 분석 솔루션 및 소프트웨어</td>\n",
       "      <td>2022-10-20</td>\n",
       "      <td>12월</td>\n",
       "      <td>김동기</td>\n",
       "      <td>NaN</td>\n",
       "      <td>경기도</td>\n",
       "      <td>정보통신업</td>\n",
       "      <td>출판업</td>\n",
       "      <td>소프트웨어 개발 및 공급업</td>\n",
       "    </tr>\n",
       "    <tr>\n",
       "      <th>4</th>\n",
       "      <td>하나금융25호스팩</td>\n",
       "      <td>435620</td>\n",
       "      <td>기업인수합병</td>\n",
       "      <td>2022-10-20</td>\n",
       "      <td>12월</td>\n",
       "      <td>남강욱</td>\n",
       "      <td>NaN</td>\n",
       "      <td>서울특별시</td>\n",
       "      <td>금융 및 보험업</td>\n",
       "      <td>금융 및 보험관련 서비스업</td>\n",
       "      <td>금융 지원 서비스업</td>\n",
       "    </tr>\n",
       "  </tbody>\n",
       "</table>\n",
       "</div>"
      ],
      "text/plain": [
       "         회사명    종목코드                  주요제품         상장일  결산월 대표자명  \\\n",
       "0        탈로스  434190          군용 리튬이온 이차전지  2022-10-24  12월  채재호   \n",
       "1       플라즈맵  405000     플라즈마 멸균기 및 표면처리기기  2022-10-21  12월  임유봉   \n",
       "2  엔에이치스팩24호  437780                기업인수합병  2022-10-20  12월  이인직   \n",
       "3         핀텔  291810  AI 영상 분석 솔루션 및 소프트웨어  2022-10-20  12월  김동기   \n",
       "4  하나금융25호스팩  435620                기업인수합병  2022-10-20  12월  남강욱   \n",
       "\n",
       "                     홈페이지     지역     업종대분류                   업종중분류  \\\n",
       "0  http://www.talos.or.kr    경기도       제조업                전기장비 제조업   \n",
       "1    http://plasmapp.com/  대전광역시       제조업  의료, 정밀, 광학 기기 및 시계 제조업   \n",
       "2                     NaN  서울특별시  금융 및 보험업          금융 및 보험관련 서비스업   \n",
       "3                     NaN    경기도     정보통신업                     출판업   \n",
       "4                     NaN  서울특별시  금융 및 보험업          금융 및 보험관련 서비스업   \n",
       "\n",
       "            업종소분류  \n",
       "0  일차전지 및 축전지 제조업  \n",
       "1      의료용 기기 제조업  \n",
       "2      금융 지원 서비스업  \n",
       "3  소프트웨어 개발 및 공급업  \n",
       "4      금융 지원 서비스업  "
      ]
     },
     "execution_count": 11,
     "metadata": {},
     "output_type": "execute_result"
    }
   ],
   "source": [
    "merged_df.head()"
   ]
  },
  {
   "cell_type": "code",
   "execution_count": 12,
   "metadata": {},
   "outputs": [
    {
     "name": "stdout",
     "output_type": "stream",
     "text": [
      "<class 'pandas.core.frame.DataFrame'>\n",
      "Int64Index: 2542 entries, 0 to 2541\n",
      "Data columns (total 11 columns):\n",
      " #   Column  Non-Null Count  Dtype \n",
      "---  ------  --------------  ----- \n",
      " 0   회사명     2542 non-null   object\n",
      " 1   종목코드    2542 non-null   object\n",
      " 2   주요제품    2527 non-null   object\n",
      " 3   상장일     2542 non-null   object\n",
      " 4   결산월     2542 non-null   object\n",
      " 5   대표자명    2542 non-null   object\n",
      " 6   홈페이지    2377 non-null   object\n",
      " 7   지역      2541 non-null   object\n",
      " 8   업종대분류   2542 non-null   object\n",
      " 9   업종중분류   2542 non-null   object\n",
      " 10  업종소분류   2542 non-null   object\n",
      "dtypes: object(11)\n",
      "memory usage: 238.3+ KB\n"
     ]
    }
   ],
   "source": [
    "merged_df.info()"
   ]
  },
  {
   "cell_type": "code",
   "execution_count": 13,
   "metadata": {},
   "outputs": [
    {
     "data": {
      "text/html": [
       "<div>\n",
       "<style scoped>\n",
       "    .dataframe tbody tr th:only-of-type {\n",
       "        vertical-align: middle;\n",
       "    }\n",
       "\n",
       "    .dataframe tbody tr th {\n",
       "        vertical-align: top;\n",
       "    }\n",
       "\n",
       "    .dataframe thead th {\n",
       "        text-align: right;\n",
       "    }\n",
       "</style>\n",
       "<table border=\"1\" class=\"dataframe\">\n",
       "  <thead>\n",
       "    <tr style=\"text-align: right;\">\n",
       "      <th></th>\n",
       "      <th>회사명</th>\n",
       "      <th>종목코드</th>\n",
       "      <th>주요제품</th>\n",
       "      <th>상장일</th>\n",
       "      <th>결산월</th>\n",
       "      <th>대표자명</th>\n",
       "      <th>홈페이지</th>\n",
       "      <th>지역</th>\n",
       "      <th>업종대분류</th>\n",
       "      <th>업종중분류</th>\n",
       "      <th>업종소분류</th>\n",
       "    </tr>\n",
       "  </thead>\n",
       "  <tbody>\n",
       "    <tr>\n",
       "      <th>count</th>\n",
       "      <td>2542</td>\n",
       "      <td>2542</td>\n",
       "      <td>2527</td>\n",
       "      <td>2542</td>\n",
       "      <td>2542</td>\n",
       "      <td>2542</td>\n",
       "      <td>2377</td>\n",
       "      <td>2541</td>\n",
       "      <td>2542</td>\n",
       "      <td>2542</td>\n",
       "      <td>2542</td>\n",
       "    </tr>\n",
       "    <tr>\n",
       "      <th>unique</th>\n",
       "      <td>2542</td>\n",
       "      <td>2542</td>\n",
       "      <td>2358</td>\n",
       "      <td>1886</td>\n",
       "      <td>9</td>\n",
       "      <td>2418</td>\n",
       "      <td>2355</td>\n",
       "      <td>22</td>\n",
       "      <td>17</td>\n",
       "      <td>64</td>\n",
       "      <td>161</td>\n",
       "    </tr>\n",
       "    <tr>\n",
       "      <th>top</th>\n",
       "      <td>탈로스</td>\n",
       "      <td>434190</td>\n",
       "      <td>기업인수합병</td>\n",
       "      <td>1976-06-30</td>\n",
       "      <td>12월</td>\n",
       "      <td>-</td>\n",
       "      <td>http://www.ibks.com</td>\n",
       "      <td>서울특별시</td>\n",
       "      <td>제조업</td>\n",
       "      <td>전자 부품, 컴퓨터, 영상, 음향 및 통신장비 제조업</td>\n",
       "      <td>소프트웨어 개발 및 공급업</td>\n",
       "    </tr>\n",
       "    <tr>\n",
       "      <th>freq</th>\n",
       "      <td>1</td>\n",
       "      <td>1</td>\n",
       "      <td>32</td>\n",
       "      <td>8</td>\n",
       "      <td>2482</td>\n",
       "      <td>5</td>\n",
       "      <td>3</td>\n",
       "      <td>1036</td>\n",
       "      <td>1540</td>\n",
       "      <td>286</td>\n",
       "      <td>158</td>\n",
       "    </tr>\n",
       "  </tbody>\n",
       "</table>\n",
       "</div>"
      ],
      "text/plain": [
       "         회사명    종목코드    주요제품         상장일   결산월  대표자명                 홈페이지  \\\n",
       "count   2542    2542    2527        2542  2542  2542                 2377   \n",
       "unique  2542    2542    2358        1886     9  2418                 2355   \n",
       "top      탈로스  434190  기업인수합병  1976-06-30   12월     -  http://www.ibks.com   \n",
       "freq       1       1      32           8  2482     5                    3   \n",
       "\n",
       "           지역 업종대분류                          업종중분류           업종소분류  \n",
       "count    2541  2542                           2542            2542  \n",
       "unique     22    17                             64             161  \n",
       "top     서울특별시   제조업  전자 부품, 컴퓨터, 영상, 음향 및 통신장비 제조업  소프트웨어 개발 및 공급업  \n",
       "freq     1036  1540                            286             158  "
      ]
     },
     "execution_count": 13,
     "metadata": {},
     "output_type": "execute_result"
    }
   ],
   "source": [
    "merged_df.describe()"
   ]
  },
  {
   "cell_type": "markdown",
   "metadata": {},
   "source": [
    "SAVE"
   ]
  },
  {
   "cell_type": "code",
   "execution_count": 14,
   "metadata": {},
   "outputs": [],
   "source": [
    "merged_df.to_csv('../../data/preprocessed/corp.csv', encoding='cp949', index=False)"
   ]
  },
  {
   "cell_type": "code",
   "execution_count": 15,
   "metadata": {},
   "outputs": [],
   "source": [
    "mani_merged_df = merged_df.loc[merged_df['업종대분류'] == '제조업', :]\n",
    "mani_merged_df.to_csv('../../data/preprocessed/mani_corp.csv', encoding='cp949', index=False)"
   ]
  }
 ],
 "metadata": {
  "kernelspec": {
   "display_name": "Python 3.9.13 ('ai_ds_corporates')",
   "language": "python",
   "name": "python3"
  },
  "language_info": {
   "codemirror_mode": {
    "name": "ipython",
    "version": 3
   },
   "file_extension": ".py",
   "mimetype": "text/x-python",
   "name": "python",
   "nbconvert_exporter": "python",
   "pygments_lexer": "ipython3",
   "version": "3.9.13"
  },
  "orig_nbformat": 4,
  "vscode": {
   "interpreter": {
    "hash": "f9dc89a4fc196d2a2fd0a6c10a2ec9dddf43d86a97ac8354db47ccea380d0dc8"
   }
  }
 },
 "nbformat": 4,
 "nbformat_minor": 2
}
