{
 "cells": [
  {
   "cell_type": "code",
   "execution_count": null,
   "metadata": {},
   "outputs": [],
   "source": [
    "! git clone"
   ]
  },
  {
   "cell_type": "code",
   "execution_count": 28,
   "metadata": {},
   "outputs": [],
   "source": [
    "from typing import *\n",
    "import os\n",
    "import re\n",
    "import pandas as pd\n",
    "from collections import Counter\n",
    "\n",
    "from konlpy.tag import Komoran\n",
    "import nltk\n",
    "from nltk import bigrams\n",
    "from nltk.util import ngrams"
   ]
  },
  {
   "cell_type": "code",
   "execution_count": 3,
   "metadata": {},
   "outputs": [],
   "source": [
    "\n",
    "REPORT_TEXT_PATH = '../../data/preprocessed/report_text/'\n",
    "MY_REPORT_FILENAME = '{name}_{report_code}_report.{extension}'\n",
    "REPORT_FILENAME_PATTERN = r'(?P<name>[^_]+)_(?P<report_code>\\d+)_report\\..*'\n",
    "MY_ENCODING = 'cp949'"
   ]
  },
  {
   "cell_type": "code",
   "execution_count": 4,
   "metadata": {},
   "outputs": [],
   "source": [
    "report_names = os.listdir(REPORT_TEXT_PATH)\n",
    "\n",
    "reports = {}\n",
    "for report_name in report_names:\n",
    "    corp_name = re.match(REPORT_FILENAME_PATTERN, report_name).groups()[0]\n",
    "    with open(os.path.join(REPORT_TEXT_PATH, report_name), 'r', encoding=MY_ENCODING) as f:\n",
    "        reports[corp_name] = f.read()"
   ]
  },
  {
   "cell_type": "code",
   "execution_count": null,
   "metadata": {},
   "outputs": [],
   "source": []
  },
  {
   "cell_type": "code",
   "execution_count": 30,
   "metadata": {},
   "outputs": [],
   "source": [
    "komoran = Komoran()\n",
    "\n",
    "ngram_counters = dict()\n",
    "for k in range(1, 4):\n",
    "    ngram_counters[k] = Counter()\n",
    "\n",
    "for report in reports.values():\n",
    "    tokens = komoran.nouns(report)\n",
    "    ngram_counters[1] += Counter(tokens)\n",
    "    ngram_counters[2] += Counter(bigrams(tokens))\n",
    "    ngram_counters[3] += Counter(ngrams(tokens, 3))"
   ]
  },
  {
   "cell_type": "code",
   "execution_count": 35,
   "metadata": {},
   "outputs": [],
   "source": [
    "import pickle\n",
    "\n",
    "with open('dump.pickle', 'wb') as f:\n",
    "    pickle.dump(ngram_counters, f, protocol=pickle.HIGHEST_PROTOCOL)"
   ]
  }
 ],
 "metadata": {
  "kernelspec": {
   "display_name": "Python 3.9.13 ('ai_ds_corporates')",
   "language": "python",
   "name": "python3"
  },
  "language_info": {
   "codemirror_mode": {
    "name": "ipython",
    "version": 3
   },
   "file_extension": ".py",
   "mimetype": "text/x-python",
   "name": "python",
   "nbconvert_exporter": "python",
   "pygments_lexer": "ipython3",
   "version": "3.9.13"
  },
  "orig_nbformat": 4,
  "vscode": {
   "interpreter": {
    "hash": "f9dc89a4fc196d2a2fd0a6c10a2ec9dddf43d86a97ac8354db47ccea380d0dc8"
   }
  }
 },
 "nbformat": 4,
 "nbformat_minor": 2
}
