{
 "cells": [
  {
   "cell_type": "code",
   "execution_count": 1,
   "metadata": {},
   "outputs": [],
   "source": [
    "from bs4 import BeautifulSoup\n",
    "import lxml"
   ]
  },
  {
   "cell_type": "code",
   "execution_count": 44,
   "metadata": {},
   "outputs": [
    {
     "data": {
      "text/plain": [
       "['한화투자증권_d002_20210104000399.xml',\n",
       " '한화손해보험_d002_20210104000358.xml',\n",
       " '유나이티드_d002_20210104000482.xml',\n",
       " '루트락_d002_20210104000497.xml',\n",
       " '한화투자증권_d002_20210104000371.xml',\n",
       " '세방_d002_20210104000372.xml',\n",
       " '한화손해보험_d002_20210104000367.xml',\n",
       " '에프앤리퍼블릭_d002_20210104000395.xml',\n",
       " '새론오토모티브_d002_20210104000423.xml',\n",
       " '디앤씨미디어_d002_20210104000441.xml',\n",
       " '서울반도체_d002_20210104000048.xml',\n",
       " '유바이오로직스_d002_20210104000377.xml',\n",
       " '한화투자증권_d002_20210104000416.xml',\n",
       " '케이티_d002_20210104000221.xml',\n",
       " '헥토파이낸셜_d002_20210104000446.xml',\n",
       " '이엔코퍼레이션_d002_20210104000387.xml',\n",
       " 'SK텔레콤_d002_20210104000151.xml',\n",
       " '유나이티드_d002_20210104000485.xml',\n",
       " '유바이오로직스_d002_20210104000366.xml',\n",
       " '한화투자증권_d002_20210104000411.xml',\n",
       " '루트락_d002_20210104000487.xml',\n",
       " '이엔코퍼레이션_d002_20210104000391.xml',\n",
       " '유안타제7호스팩_d002_20210104000468.xml',\n",
       " '루트락_d002_20210104000492.xml',\n",
       " '에프앤리퍼블릭_d002_20210104000386.xml',\n",
       " '한화투자증권_d002_20210104000404.xml',\n",
       " 'KG스틸_d002_20210104000189.xml',\n",
       " '삼성증권_d002_20210104000388.xml',\n",
       " '코웨이_d002_20210104000271.xml',\n",
       " '마이크로프랜드_d002_20210104000349.xml',\n",
       " '디지캡_d002_20210104000463.xml',\n",
       " '루트락_d002_20210104000378.xml',\n",
       " '신성통상_d002_20210104000353.xml',\n",
       " '루트락_d002_20210104000436.xml',\n",
       " '한화생명_d002_20210104000495.xml',\n",
       " '고려시멘트_d002_20210104000280.xml',\n",
       " '코퍼스코리아_d002_20210104000393.xml',\n",
       " '세방_d002_20210104000339.xml',\n",
       " '세진티에스_d002_20210104000063.xml',\n",
       " '케이티_d002_20210104000496.xml',\n",
       " '에스와이_d002_20210104000352.xml',\n",
       " '노바텍_d002_20210104000431.xml',\n",
       " 'NH투자증권_d002_20210104000276.xml',\n",
       " '유바이오로직스_d002_20210104000328.xml',\n",
       " '유바이오로직스_d002_20210104000502.xml',\n",
       " 'HMM_d002_20210104000373.xml',\n",
       " '유바이오로직스_d002_20210104000265.xml',\n",
       " '한세엠케이_d002_20210104000408.xml',\n",
       " 'KX_d002_20210104000360.xml',\n",
       " '노바텍_d002_20210104000232.xml',\n",
       " '드림시큐리티_d002_20210104000084.xml',\n",
       " '이트론_d002_20210104000104.xml',\n",
       " '노바텍_d002_20210104000218.xml',\n",
       " '제이알글로벌리츠_d002_20210104000462.xml',\n",
       " '메가스터디교육_d002_20210104000158.xml',\n",
       " '노바텍_d002_20210104000225.xml',\n",
       " '현대리바트_d002_20210104000432.xml',\n",
       " '대화제약_d002_20210104000121.xml',\n",
       " '메가스터디교육_d002_20210104000155.xml',\n",
       " '유바이오로직스_d002_20210104000336.xml',\n",
       " '유바이오로직스_d002_20210104000322.xml',\n",
       " 'NH투자증권_d002_20210104000283.xml',\n",
       " '삼성증권_d002_20210104000382.xml',\n",
       " '고려시멘트_d002_20210104000274.xml',\n",
       " '서울반도체_d002_20210104000037.xml',\n",
       " '루트락_d002_20210104000401.xml',\n",
       " '유안타제7호스팩_d002_20210104000438.xml',\n",
       " '조광ILI_d002_20210104000504.xml',\n",
       " '현대에버다임_d002_20210104000317.xml',\n",
       " '베른_d002_20210104000247.xml',\n",
       " '코웨이_d002_20210104000281.xml',\n",
       " '현대에버다임_d002_20210104000307.xml',\n",
       " '유바이오로직스_d002_20210104000245.xml',\n",
       " '에이티세미콘_d002_20210104000412.xml',\n",
       " 'SK디스커버리_d002_20210104000430.xml',\n",
       " '엘오티베큠_d002_20210104000324.xml',\n",
       " '대교_d002_20210104000038.xml',\n",
       " '헥토파이낸셜_d002_20210104000439.xml',\n",
       " '엘컴텍_d002_20210104000381.xml',\n",
       " 'KTcs_d002_20210104000341.xml',\n",
       " '애니플러스_d002_20210104000363.xml',\n",
       " '유바이오로직스_d002_20210104000253.xml',\n",
       " 'KH 건설_d002_20210104000302.xml',\n",
       " '고려시멘트_d002_20210104000267.xml',\n",
       " '노바텍_d002_20210104000210.xml',\n",
       " '보령_d002_20210104000330.xml',\n",
       " 'KX_d002_20210104000325.xml',\n",
       " '케이티_d002_20210104000170.xml',\n",
       " '광동제약_d002_20210104000354.xml',\n",
       " '에프앤리퍼블릭_d002_20210104000374.xml',\n",
       " '루트락_d002_20210104000474.xml',\n",
       " '다올투자증권_d002_20210104000144.xml',\n",
       " '한화투자증권_d002_20210104000420.xml',\n",
       " '케이티_d002_20210104000205.xml',\n",
       " '한화투자증권_d002_20210104000422.xml',\n",
       " '케이씨씨글라스_d002_20210104000288.xml',\n",
       " '광동제약_d002_20210104000356.xml',\n",
       " '유바이오로직스_d002_20210104000342.xml',\n",
       " '토비스_d002_20210104000055.xml',\n",
       " '루트락_d002_20210104000506.xml',\n",
       " '유바이오로직스_d002_20210104000346.xml',\n",
       " '다올투자증권_d002_20210104000157.xml',\n",
       " '노바렉스_d002_20210104000147.xml',\n",
       " '에스에이치엔엘_d002_20210104000429.xml',\n",
       " '네오리진_d002_20210104000195.xml',\n",
       " '베른_d002_20210104000190.xml',\n",
       " '서울반도체_d002_20210104000050.xml',\n",
       " '한화투자증권_d002_20210104000397.xml',\n",
       " '유나이티드_d002_20210104000459.xml',\n",
       " '다올투자증권_d002_20210104000140.xml',\n",
       " '고려제약_d002_20210104000017.xml',\n",
       " '토비스_d002_20210104000053.xml']"
      ]
     },
     "execution_count": 44,
     "metadata": {},
     "output_type": "execute_result"
    }
   ],
   "source": [
    "import os\n",
    "import pandas as pd\n",
    "df = pd.DataFrame()\n",
    "\n",
    "PATH = '../data/origin/dart/reports/d002/'\n",
    "\n",
    "filenames = [filename for filename in os.listdir(PATH) if filename[-4:] == '.xml']\n",
    "filenames"
   ]
  },
  {
   "cell_type": "code",
   "execution_count": 209,
   "metadata": {},
   "outputs": [],
   "source": [
    "from typing import *\n",
    "\n",
    "def load_report(filename:str) -> BeautifulSoup:\n",
    "    with open(PATH + filename, 'rb') as f:\n",
    "        a = f.read()\n",
    "        bs = BeautifulSoup(a, 'html.parser')\n",
    "    \n",
    "    return bs\n",
    "\n",
    "def get_company_info(bs: BeautifulSoup) -> List :\n",
    "    tr = bs.find('td', string='회 사 명').parent.parent\n",
    "    \n",
    "    # 회사명\n",
    "    name = tr.find('td', string='회 사 명').next_sibling.next_sibling.text\n",
    "\n",
    "    # 법인구분\n",
    "    market = tr.find('td', string='법인구분').next_sibling.next_sibling.text\n",
    "    market = market.replace('상장법인','')\n",
    "\n",
    "    # 종목코드\n",
    "    stock_code = tr.find('td', string='회사코드 ').next_sibling.next_sibling.text\n",
    "\n",
    "    # 발생주식 총수\n",
    "    total_stock = tr.find('td', string='발행주식 총수').next_sibling.next_sibling.text\n",
    "    total_stock = int(total_stock.replace(r',', '').strip())\n",
    "\n",
    "    return [name, market, stock_code, total_stock]\n",
    "\n",
    "def get_reporter_info(bs: BeautifulSoup)->List:\n",
    "    tr = bs.find('td', string='보고구분').parent\n",
    "\n",
    "    # 보고구분\n",
    "    report_type = tr.find('td', string='보고구분').next_sibling.next_sibling.text\n",
    "    \n",
    "    # 보고자 구분\n",
    "    reporter_type = tr.find('td', string='보고자 구분').next_sibling.next_sibling.text\n",
    "    \n",
    "    tr = bs.find('td', string='성명(명칭)').parent\n",
    "    \n",
    "    # 보고자 명칭\n",
    "    reporter_name = tr.find('td', string='한     글').next_sibling.next_sibling.text\n",
    "    \n",
    "    tr = bs.find('td', string='발행회사와의 관계').parent\n",
    "    \n",
    "    # 임원\n",
    "    executive = tr.find('td', string='임원(등기여부)').next_sibling.next_sibling.text\n",
    "    \n",
    "    # 직위명\n",
    "    position = tr.find('td', string='직위명').next_sibling.next_sibling.text\n",
    "    \n",
    "    tr = tr.next_sibling.next_sibling.next_sibling.next_sibling\n",
    "    \n",
    "    # 주요주주\n",
    "    # try:\n",
    "    stock_holder_type = tr.find('td', string='주요주주').next_sibling.next_sibling.text\n",
    "    # except:\n",
    "        # stock_holder_type = '-'\n",
    "    \n",
    "    return [report_type, reporter_type, reporter_name, executive, position, stock_holder_type]\n",
    "\n",
    "def get_report_contents(bs: BeautifulSoup) -> List:\n",
    "    body = bs.find('th', string='보고사유').parent.parent.next_sibling.next_sibling\n",
    "    \n",
    "    trs = body.find_all('tr')\n",
    "    contents = []\n",
    "    for tr in trs[:-1]:\n",
    "        tus = tr.find_all('tu')\n",
    "        \n",
    "        # 변동사유\n",
    "        reason = tus[0].text\n",
    "        \n",
    "        # 변동일\n",
    "        change_date = tus[1].text\n",
    "        \n",
    "        # 특정증권등의 종류\n",
    "        stock_type = tus[2].text\n",
    "        \n",
    "        tes = body.find_all('te')\n",
    "        \n",
    "        # 변동전\n",
    "        try:\n",
    "            prev = tes[0].text\n",
    "            prev = int(prev.replace(',', '').strip())\n",
    "        except:\n",
    "            prev = 0\n",
    "        \n",
    "        # 증감\n",
    "        change = tes[1].text\n",
    "        change = int(change.replace(',', '').strip())\n",
    "        \n",
    "        # 변동 후\n",
    "        try:\n",
    "            after = tes[2].text\n",
    "            after = int(after.replace(',', '').strip())\n",
    "        except:\n",
    "            after = 0\n",
    "        \n",
    "        contents.append([reason, change_date, stock_type, prev, change, after])\n",
    "        \n",
    "    return contents\n",
    "        \n",
    "    "
   ]
  },
  {
   "cell_type": "code",
   "execution_count": 210,
   "metadata": {},
   "outputs": [
    {
     "name": "stderr",
     "output_type": "stream",
     "text": [
      "/Users/y35-n0/opt/anaconda3/envs/ml_team_project/lib/python3.9/site-packages/bs4/builder/__init__.py:545: XMLParsedAsHTMLWarning: It looks like you're parsing an XML document using an HTML parser. If this really is an HTML document (maybe it's XHTML?), you can ignore or filter this warning. If it's XML, you should know that using an XML parser will be more reliable. To parse this document as XML, make sure you have the lxml package installed, and pass the keyword argument `features=\"xml\"` into the BeautifulSoup constructor.\n",
      "  warnings.warn(\n"
     ]
    },
    {
     "data": {
      "text/plain": [
       "(183, 18)"
      ]
     },
     "execution_count": 210,
     "metadata": {},
     "output_type": "execute_result"
    }
   ],
   "source": [
    "import re\n",
    "\n",
    "data = []\n",
    "for filename in filenames:\n",
    "    name, date = re.search(r'([^_]+)_d002_(\\d{8})', filename).groups()\n",
    "    bs = load_report(filename)\n",
    "    company_info = get_company_info(bs)\n",
    "    reporter_info = get_reporter_info(bs)\n",
    "    contents = get_report_contents(bs)\n",
    "    \n",
    "    for content in contents:\n",
    "        data.append(company_info + reporter_info + content + [name, date])\n",
    "        \n",
    "    # break\n",
    "\n",
    "df = pd.DataFrame(data, columns=['회사명1', '법인구분', '종목코드', '발행주식 총수', '보고구분', '보고자 구분', '보고자 명칭', '임원', '직위명', '주요주주', '변동사유', '변동일', '특정증권등의 종류', '변동전', '증감', '변동후', '회사명2', '보고일자'])\n",
    "df.shape"
   ]
  },
  {
   "cell_type": "code",
   "execution_count": 211,
   "metadata": {},
   "outputs": [],
   "source": [
    "df.to_csv('../data/preprocessed/20210104_D002.csv', encoding='cp949', index=False)"
   ]
  },
  {
   "cell_type": "code",
   "execution_count": 170,
   "metadata": {},
   "outputs": [
    {
     "name": "stderr",
     "output_type": "stream",
     "text": [
      "/Users/y35-n0/opt/anaconda3/envs/ml_team_project/lib/python3.9/site-packages/bs4/builder/__init__.py:545: XMLParsedAsHTMLWarning: It looks like you're parsing an XML document using an HTML parser. If this really is an HTML document (maybe it's XHTML?), you can ignore or filter this warning. If it's XML, you should know that using an XML parser will be more reliable. To parse this document as XML, make sure you have the lxml package installed, and pass the keyword argument `features=\"xml\"` into the BeautifulSoup constructor.\n",
      "  warnings.warn(\n"
     ]
    }
   ],
   "source": [
    "with open('../data/origin/dart/reports/d002/고려시멘트_d002_20210104000267.xml', 'rb') as f:\n",
    "        a = f.read()\n",
    "        bs = BeautifulSoup(a, 'html.parser')"
   ]
  },
  {
   "cell_type": "markdown",
   "metadata": {},
   "source": [
    "#### 회사 개요"
   ]
  },
  {
   "cell_type": "code",
   "execution_count": 171,
   "metadata": {},
   "outputs": [],
   "source": [
    "tr = bs.find('td', string='회 사 명').parent.parent"
   ]
  },
  {
   "cell_type": "code",
   "execution_count": 172,
   "metadata": {},
   "outputs": [
    {
     "data": {
      "text/plain": [
       "'주식회사 고려시멘트'"
      ]
     },
     "execution_count": 172,
     "metadata": {},
     "output_type": "execute_result"
    }
   ],
   "source": [
    "# 회사명\n",
    "tr.find('td', string='회 사 명').next_sibling.next_sibling.text"
   ]
  },
  {
   "cell_type": "code",
   "execution_count": 173,
   "metadata": {},
   "outputs": [
    {
     "data": {
      "text/plain": [
       "'코스닥'"
      ]
     },
     "execution_count": 173,
     "metadata": {},
     "output_type": "execute_result"
    }
   ],
   "source": [
    "# 법인구분\n",
    "market = tr.find('td', string='법인구분').next_sibling.next_sibling.text\n",
    "market.replace('상장법인','')"
   ]
  },
  {
   "cell_type": "code",
   "execution_count": 174,
   "metadata": {},
   "outputs": [
    {
     "data": {
      "text/plain": [
       "'198440'"
      ]
     },
     "execution_count": 174,
     "metadata": {},
     "output_type": "execute_result"
    }
   ],
   "source": [
    "# 종목코드\n",
    "tr.find('td', string='회사코드 ').next_sibling.next_sibling.text"
   ]
  },
  {
   "cell_type": "code",
   "execution_count": 175,
   "metadata": {},
   "outputs": [
    {
     "data": {
      "text/plain": [
       "31979960"
      ]
     },
     "execution_count": 175,
     "metadata": {},
     "output_type": "execute_result"
    }
   ],
   "source": [
    "# 발생주식 총수\n",
    "total = tr.find('td', string='발행주식 총수').next_sibling.next_sibling.text\n",
    "int(total.replace(r',', '').strip())"
   ]
  },
  {
   "cell_type": "markdown",
   "metadata": {},
   "source": [
    "#### 보고자 개요"
   ]
  },
  {
   "cell_type": "code",
   "execution_count": 189,
   "metadata": {},
   "outputs": [],
   "source": [
    "tr = bs.find('td', string='보고구분').parent"
   ]
  },
  {
   "cell_type": "code",
   "execution_count": 190,
   "metadata": {},
   "outputs": [
    {
     "data": {
      "text/plain": [
       "'신규'"
      ]
     },
     "execution_count": 190,
     "metadata": {},
     "output_type": "execute_result"
    }
   ],
   "source": [
    "# 보고구분\n",
    "tr.find('td', string='보고구분').next_sibling.next_sibling.text"
   ]
  },
  {
   "cell_type": "code",
   "execution_count": 191,
   "metadata": {},
   "outputs": [
    {
     "data": {
      "text/plain": [
       "'국내법인'"
      ]
     },
     "execution_count": 191,
     "metadata": {},
     "output_type": "execute_result"
    }
   ],
   "source": [
    "# 보고자 구분\n",
    "tr.find('td', string='보고자 구분').next_sibling.next_sibling.text"
   ]
  },
  {
   "cell_type": "code",
   "execution_count": 192,
   "metadata": {},
   "outputs": [],
   "source": [
    "tr = bs.find('td', string='성명(명칭)').parent"
   ]
  },
  {
   "cell_type": "code",
   "execution_count": 193,
   "metadata": {},
   "outputs": [
    {
     "data": {
      "text/plain": [
       "'주식회사 미래'"
      ]
     },
     "execution_count": 193,
     "metadata": {},
     "output_type": "execute_result"
    }
   ],
   "source": [
    "# 보고자 명칭\n",
    "tr.find('td', string='한     글').next_sibling.next_sibling.text"
   ]
  },
  {
   "cell_type": "code",
   "execution_count": 199,
   "metadata": {},
   "outputs": [],
   "source": [
    "tr = bs.find('td', string='발행회사와의 관계').parent"
   ]
  },
  {
   "cell_type": "code",
   "execution_count": 200,
   "metadata": {},
   "outputs": [
    {
     "data": {
      "text/plain": [
       "'-'"
      ]
     },
     "execution_count": 200,
     "metadata": {},
     "output_type": "execute_result"
    }
   ],
   "source": [
    "# 임원여부\n",
    "tr.find('td', string='임원(등기여부)').next_sibling.next_sibling.text"
   ]
  },
  {
   "cell_type": "code",
   "execution_count": 201,
   "metadata": {},
   "outputs": [
    {
     "data": {
      "text/plain": [
       "'-'"
      ]
     },
     "execution_count": 201,
     "metadata": {},
     "output_type": "execute_result"
    }
   ],
   "source": [
    "# 직위명\n",
    "tr.find('td', string='직위명').next_sibling.next_sibling.text"
   ]
  },
  {
   "cell_type": "code",
   "execution_count": 202,
   "metadata": {},
   "outputs": [],
   "source": [
    "# tr = tr.next_sibling\n",
    "# 주요주주\n",
    "tr.find('td', string='주요주주')#.next_sibling.next_sibling.text"
   ]
  },
  {
   "cell_type": "code",
   "execution_count": 206,
   "metadata": {},
   "outputs": [
    {
     "data": {
      "text/plain": [
       "<tr acopy=\"Y\" adelete=\"Y\">\n",
       "<td align=\"CENTER\" aupdatecont=\"N\" height=\"30\" valign=\"MIDDLE\" width=\"115\">주요주주</td>\n",
       "<tu align=\"CENTER\" aunit=\"MAIN_SH\" aunitvalue=\"1\" colspan=\"3\" height=\"30\" valign=\"MIDDLE\" width=\"352\">10%이상주주</tu>\n",
       "</tr>"
      ]
     },
     "execution_count": 206,
     "metadata": {},
     "output_type": "execute_result"
    }
   ],
   "source": [
    "tr.next_sibling.next_sibling.next_sibling.next_sibling"
   ]
  },
  {
   "cell_type": "markdown",
   "metadata": {},
   "source": [
    "#### 보고 항목"
   ]
  },
  {
   "cell_type": "code",
   "execution_count": 113,
   "metadata": {},
   "outputs": [],
   "source": [
    "body = bs.find('th', string='보고사유').parent.parent.next_sibling.next_sibling"
   ]
  },
  {
   "cell_type": "code",
   "execution_count": 122,
   "metadata": {},
   "outputs": [],
   "source": [
    "trs = body.find_all('tr')\n",
    "tus = trs[0].find_all('tu')"
   ]
  },
  {
   "cell_type": "code",
   "execution_count": 129,
   "metadata": {},
   "outputs": [
    {
     "data": {
      "text/plain": [
       "'합병(+)'"
      ]
     },
     "execution_count": 129,
     "metadata": {},
     "output_type": "execute_result"
    }
   ],
   "source": [
    "# 변동사유\n",
    "tus[0].text"
   ]
  },
  {
   "cell_type": "code",
   "execution_count": 130,
   "metadata": {},
   "outputs": [
    {
     "data": {
      "text/plain": [
       "'2020.12.31'"
      ]
     },
     "execution_count": 130,
     "metadata": {},
     "output_type": "execute_result"
    }
   ],
   "source": [
    "# 변동일\n",
    "tus[1].text"
   ]
  },
  {
   "cell_type": "code",
   "execution_count": 131,
   "metadata": {},
   "outputs": [
    {
     "data": {
      "text/plain": [
       "'보통주'"
      ]
     },
     "execution_count": 131,
     "metadata": {},
     "output_type": "execute_result"
    }
   ],
   "source": [
    "# 특정증권등의 종류\n",
    "tus[2].text"
   ]
  },
  {
   "cell_type": "code",
   "execution_count": 132,
   "metadata": {},
   "outputs": [],
   "source": [
    "tes = body.find_all('te')"
   ]
  },
  {
   "cell_type": "code",
   "execution_count": 133,
   "metadata": {},
   "outputs": [
    {
     "data": {
      "text/plain": [
       "'- '"
      ]
     },
     "execution_count": 133,
     "metadata": {},
     "output_type": "execute_result"
    }
   ],
   "source": [
    "# 변동전\n",
    "tes[0].text"
   ]
  },
  {
   "cell_type": "code",
   "execution_count": 134,
   "metadata": {},
   "outputs": [
    {
     "data": {
      "text/plain": [
       "'8,471,733 '"
      ]
     },
     "execution_count": 134,
     "metadata": {},
     "output_type": "execute_result"
    }
   ],
   "source": [
    "# 증감\n",
    "tes[1].text"
   ]
  },
  {
   "cell_type": "code",
   "execution_count": 135,
   "metadata": {},
   "outputs": [
    {
     "data": {
      "text/plain": [
       "'8,471,733 '"
      ]
     },
     "execution_count": 135,
     "metadata": {},
     "output_type": "execute_result"
    }
   ],
   "source": [
    "# 변동 후\n",
    "tes[2].text"
   ]
  },
  {
   "cell_type": "code",
   "execution_count": 136,
   "metadata": {},
   "outputs": [
    {
     "data": {
      "text/plain": [
       "'- '"
      ]
     },
     "execution_count": 136,
     "metadata": {},
     "output_type": "execute_result"
    }
   ],
   "source": [
    "# 취득/처분 단가\n",
    "tes[3].text"
   ]
  },
  {
   "cell_type": "code",
   "execution_count": 137,
   "metadata": {},
   "outputs": [
    {
     "data": {
      "text/plain": [
       "'-'"
      ]
     },
     "execution_count": 137,
     "metadata": {},
     "output_type": "execute_result"
    }
   ],
   "source": [
    "# 비고\n",
    "tes[4].text"
   ]
  },
  {
   "cell_type": "code",
   "execution_count": null,
   "metadata": {},
   "outputs": [],
   "source": []
  }
 ],
 "metadata": {
  "kernelspec": {
   "display_name": "Python 3.9.13 ('ml_team_project')",
   "language": "python",
   "name": "python3"
  },
  "language_info": {
   "codemirror_mode": {
    "name": "ipython",
    "version": 3
   },
   "file_extension": ".py",
   "mimetype": "text/x-python",
   "name": "python",
   "nbconvert_exporter": "python",
   "pygments_lexer": "ipython3",
   "version": "3.9.13"
  },
  "orig_nbformat": 4,
  "vscode": {
   "interpreter": {
    "hash": "eecba4c216138c5a4dc47148ca01afe802778e2dcca1f91aad331c9df0e45a11"
   }
  }
 },
 "nbformat": 4,
 "nbformat_minor": 2
}
