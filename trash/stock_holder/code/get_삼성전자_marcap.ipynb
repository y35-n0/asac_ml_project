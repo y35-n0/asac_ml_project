{
 "cells": [
  {
   "cell_type": "code",
   "execution_count": 5,
   "metadata": {},
   "outputs": [],
   "source": [
    "from marcap import marcap_data"
   ]
  },
  {
   "cell_type": "code",
   "execution_count": null,
   "metadata": {},
   "outputs": [],
   "source": [
    "samsung_df = marcap_data('2015-01-01', '2022-10-24', code='005930')\n",
    "samsung_first_df = marcap_data('2015-01-01', '2022-10-24', code='005935')"
   ]
  },
  {
   "cell_type": "code",
   "execution_count": 13,
   "metadata": {},
   "outputs": [],
   "source": [
    "samsung_latest_stocks = samsung_df.iloc[-1]['Stocks']\n",
    "samsung_first_latest_stocks = samsung_first_df.iloc[-1]['Stocks']"
   ]
  },
  {
   "cell_type": "code",
   "execution_count": 14,
   "metadata": {},
   "outputs": [],
   "source": [
    "samsung_df['Adj Close'] = samsung_df['Close'] * (samsung_df['Stocks'] / samsung_latest_stocks) # 수정종가\n",
    "\n",
    "samsung_first_df['Adj Close'] = samsung_first_df['Close'] * (samsung_first_df['Stocks'] / samsung_first_latest_stocks) # 수정종가\n"
   ]
  },
  {
   "cell_type": "code",
   "execution_count": 15,
   "metadata": {},
   "outputs": [],
   "source": [
    "\n",
    "samsung_df.to_csv('../data/origin/krx/삼성전자_marcap.csv',\n",
    "          encoding='cp949')\n",
    "samsung_first_df.to_csv('../data/origin/krx/삼성전자우_marcap.csv',\n",
    "          encoding='cp949')"
   ]
  },
  {
   "cell_type": "code",
   "execution_count": null,
   "metadata": {},
   "outputs": [],
   "source": []
  }
 ],
 "metadata": {
  "kernelspec": {
   "display_name": "Python 3.9.13 ('ml_team_project')",
   "language": "python",
   "name": "python3"
  },
  "language_info": {
   "codemirror_mode": {
    "name": "ipython",
    "version": 3
   },
   "file_extension": ".py",
   "mimetype": "text/x-python",
   "name": "python",
   "nbconvert_exporter": "python",
   "pygments_lexer": "ipython3",
   "version": "3.9.13"
  },
  "orig_nbformat": 4,
  "vscode": {
   "interpreter": {
    "hash": "eecba4c216138c5a4dc47148ca01afe802778e2dcca1f91aad331c9df0e45a11"
   }
  }
 },
 "nbformat": 4,
 "nbformat_minor": 2
}
