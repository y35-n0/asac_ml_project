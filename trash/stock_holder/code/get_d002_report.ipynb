{
 "cells": [
  {
   "cell_type": "code",
   "execution_count": 4,
   "metadata": {},
   "outputs": [
    {
     "data": {
      "text/plain": [
       "(53597, 6)"
      ]
     },
     "execution_count": 4,
     "metadata": {},
     "output_type": "execute_result"
    }
   ],
   "source": [
    "import pandas as pd\n",
    "\n",
    "report_list = pd.read_csv('../data/preprocessed/20150101-20221111_d002_list.csv',\n",
    "                          encoding='cp949',\n",
    "                          dtype=object\n",
    "                          )\n",
    "report_list.shape"
   ]
  },
  {
   "cell_type": "code",
   "execution_count": 5,
   "metadata": {},
   "outputs": [
    {
     "name": "stdout",
     "output_type": "stream",
     "text": [
      "<class 'pandas.core.frame.DataFrame'>\n",
      "RangeIndex: 53597 entries, 0 to 53596\n",
      "Data columns (total 6 columns):\n",
      " #   Column  Non-Null Count  Dtype \n",
      "---  ------  --------------  ----- \n",
      " 0   고유번호    53597 non-null  object\n",
      " 1   회사명     53597 non-null  object\n",
      " 2   종목코드    53597 non-null  object\n",
      " 3   공시명     53597 non-null  object\n",
      " 4   공시번호    53597 non-null  object\n",
      " 5   공시일     53597 non-null  object\n",
      "dtypes: object(6)\n",
      "memory usage: 2.5+ MB\n"
     ]
    }
   ],
   "source": [
    "report_list.info()"
   ]
  },
  {
   "cell_type": "code",
   "execution_count": 6,
   "metadata": {},
   "outputs": [
    {
     "data": {
      "text/html": [
       "<div>\n",
       "<style scoped>\n",
       "    .dataframe tbody tr th:only-of-type {\n",
       "        vertical-align: middle;\n",
       "    }\n",
       "\n",
       "    .dataframe tbody tr th {\n",
       "        vertical-align: top;\n",
       "    }\n",
       "\n",
       "    .dataframe thead th {\n",
       "        text-align: right;\n",
       "    }\n",
       "</style>\n",
       "<table border=\"1\" class=\"dataframe\">\n",
       "  <thead>\n",
       "    <tr style=\"text-align: right;\">\n",
       "      <th></th>\n",
       "      <th>고유번호</th>\n",
       "      <th>회사명</th>\n",
       "      <th>종목코드</th>\n",
       "      <th>공시명</th>\n",
       "      <th>공시번호</th>\n",
       "      <th>공시일</th>\n",
       "    </tr>\n",
       "  </thead>\n",
       "  <tbody>\n",
       "    <tr>\n",
       "      <th>0</th>\n",
       "      <td>00365387</td>\n",
       "      <td>AJ네트웍스</td>\n",
       "      <td>095570</td>\n",
       "      <td>임원ㆍ주요주주특정증권등소유상황보고서</td>\n",
       "      <td>20220404002789</td>\n",
       "      <td>20220404</td>\n",
       "    </tr>\n",
       "    <tr>\n",
       "      <th>1</th>\n",
       "      <td>00365387</td>\n",
       "      <td>AJ네트웍스</td>\n",
       "      <td>095570</td>\n",
       "      <td>임원ㆍ주요주주특정증권등소유상황보고서</td>\n",
       "      <td>20220404002755</td>\n",
       "      <td>20220404</td>\n",
       "    </tr>\n",
       "    <tr>\n",
       "      <th>2</th>\n",
       "      <td>00365387</td>\n",
       "      <td>AJ네트웍스</td>\n",
       "      <td>095570</td>\n",
       "      <td>임원ㆍ주요주주특정증권등소유상황보고서</td>\n",
       "      <td>20200717000248</td>\n",
       "      <td>20200717</td>\n",
       "    </tr>\n",
       "    <tr>\n",
       "      <th>3</th>\n",
       "      <td>00365387</td>\n",
       "      <td>AJ네트웍스</td>\n",
       "      <td>095570</td>\n",
       "      <td>임원ㆍ주요주주특정증권등소유상황보고서</td>\n",
       "      <td>20200717000224</td>\n",
       "      <td>20200717</td>\n",
       "    </tr>\n",
       "    <tr>\n",
       "      <th>4</th>\n",
       "      <td>00365387</td>\n",
       "      <td>AJ네트웍스</td>\n",
       "      <td>095570</td>\n",
       "      <td>임원ㆍ주요주주특정증권등소유상황보고서</td>\n",
       "      <td>20200717000193</td>\n",
       "      <td>20200717</td>\n",
       "    </tr>\n",
       "  </tbody>\n",
       "</table>\n",
       "</div>"
      ],
      "text/plain": [
       "       고유번호     회사명    종목코드                  공시명            공시번호       공시일\n",
       "0  00365387  AJ네트웍스  095570  임원ㆍ주요주주특정증권등소유상황보고서  20220404002789  20220404\n",
       "1  00365387  AJ네트웍스  095570  임원ㆍ주요주주특정증권등소유상황보고서  20220404002755  20220404\n",
       "2  00365387  AJ네트웍스  095570  임원ㆍ주요주주특정증권등소유상황보고서  20200717000248  20200717\n",
       "3  00365387  AJ네트웍스  095570  임원ㆍ주요주주특정증권등소유상황보고서  20200717000224  20200717\n",
       "4  00365387  AJ네트웍스  095570  임원ㆍ주요주주특정증권등소유상황보고서  20200717000193  20200717"
      ]
     },
     "execution_count": 6,
     "metadata": {},
     "output_type": "execute_result"
    }
   ],
   "source": [
    "report_list.head()"
   ]
  },
  {
   "cell_type": "markdown",
   "metadata": {},
   "source": [
    "### Download data"
   ]
  },
  {
   "cell_type": "code",
   "execution_count": 7,
   "metadata": {},
   "outputs": [],
   "source": [
    "import os\n",
    "from dotenv import load_dotenv\n",
    "\n",
    "load_dotenv()\n",
    "\n",
    "API_KEY = os.environ.get('DART_API_KEY')"
   ]
  },
  {
   "cell_type": "code",
   "execution_count": 8,
   "metadata": {},
   "outputs": [],
   "source": [
    "from requests import Session\n",
    "from requests.adapters import HTTPAdapter\n",
    "from urllib3.util.retry import Retry\n",
    "\n",
    "session = Session()\n",
    "retry = Retry(connect=5, backoff_factor=0.5)\n",
    "adapter = HTTPAdapter(max_retries=retry)\n",
    "session.mount('https://', adapter)\n",
    "session.mount('http://', adapter)\n",
    "\n",
    "URL = 'https://opendart.fss.or.kr/api/document.xml'\n",
    "\n",
    "FILEPATH = '../data/origin/dart/reports/d002/kospi'\n",
    "\n",
    "RAW_FILENAME = '{rcept_no}.{extension}'\n",
    "MY_FILENAME = '{corp_name}_d002_{rcept_no}.{extension}'"
   ]
  },
  {
   "cell_type": "code",
   "execution_count": 11,
   "metadata": {},
   "outputs": [],
   "source": [
    "def download_report(corp_name:str, rcept_no: str) -> bool:\n",
    "    # try:\n",
    "        params = {\n",
    "            'crtfc_key': API_KEY, \n",
    "            'rcept_no': rcept_no\n",
    "            }\n",
    "        \n",
    "        res = session.get(URL, params=params)\n",
    "        \n",
    "        filepath = os.path.join(\n",
    "            FILEPATH,\n",
    "            MY_FILENAME.format(corp_name=corp_name, rcept_no=rcept_no, extension='zip')\n",
    "            )\n",
    "        with open(filepath, 'wb') as f:\n",
    "            f.write(res.content)\n",
    "        \n",
    "        return True\n",
    "    # except:\n",
    "    #     return False"
   ]
  },
  {
   "cell_type": "code",
   "execution_count": 13,
   "metadata": {},
   "outputs": [
    {
     "name": "stdout",
     "output_type": "stream",
     "text": [
      "999 HTTPSConnectionPool(host='opendart.fss.or.kr', port=443): Max retries exceeded with url: /api/document.xml?crtfc_key=b1bc86f02d80d0e8a66c3cfeb5927c35ef25d22f&rcept_no=20210407002345 (Caused by ProtocolError('Connection aborted.', RemoteDisconnected('Remote end closed connection without response')))\n"
     ]
    }
   ],
   "source": [
    "\n",
    "for i, report in report_list[999:15000].iterrows():\n",
    "    try:\n",
    "        corp_name = report['회사명']\n",
    "        rcept_no = report['공시번호']\n",
    "        download_report(corp_name, rcept_no)\n",
    "    except Exception as e:\n",
    "        print(999+i, e)\n",
    "        break"
   ]
  },
  {
   "cell_type": "markdown",
   "metadata": {},
   "source": [
    "## Extract data"
   ]
  },
  {
   "cell_type": "code",
   "execution_count": 57,
   "metadata": {},
   "outputs": [],
   "source": [
    "import os\n",
    "import re\n",
    "import zipfile\n",
    "from typing import *\n",
    "\n",
    "MY_PATTERN = r'([^_]+)_d002_(\\d+).zip'\n",
    "\n",
    "def get_name_and_report_code(filename: str) -> Tuple[str, str]:\n",
    "    name, report_code = re.search(MY_PATTERN, filename).groups()\n",
    "    return name, report_code\n",
    "    \n",
    "def extract_report(name: str, report_code: str)-> Tuple[str, str]:\n",
    "    zipfile.ZipFile(FILEPATH + MY_FILENAME.format(corp_name=name, rcept_no=report_code, extension='zip'))\\\n",
    "        .extractall(FILEPATH)\n",
    "    \n",
    "    return name, report_code\n",
    "\n",
    "def rename_report(name: str, report_code: str):\n",
    "    os.rename(FILEPATH + RAW_FILENAME.format(rcept_no=report_code, extension='xml'),\n",
    "              FILEPATH + MY_FILENAME.format(corp_name=name, rcept_no=report_code, extension='xml'))"
   ]
  },
  {
   "cell_type": "code",
   "execution_count": 58,
   "metadata": {},
   "outputs": [],
   "source": [
    "filenames = [filename for filename in os.listdir(FILEPATH) if filename[-4:] == '.zip']\n",
    "error = []\n",
    "\n",
    "for filename in filenames:\n",
    "    try:\n",
    "        name, report_code = get_name_and_report_code(filename)\n",
    "        extract_report(name, report_code)\n",
    "        rename_report(name, report_code)\n",
    "    except:\n",
    "        error.append((name, report_code))\n",
    "    # break"
   ]
  },
  {
   "cell_type": "code",
   "execution_count": 59,
   "metadata": {},
   "outputs": [
    {
     "ename": "NameError",
     "evalue": "name 'bs' is not defined",
     "output_type": "error",
     "traceback": [
      "\u001b[0;31m---------------------------------------------------------------------------\u001b[0m",
      "\u001b[0;31mNameError\u001b[0m                                 Traceback (most recent call last)",
      "\u001b[0;32m/var/folders/nj/m2b953jd03q1pw2v5dr67y380000gn/T/ipykernel_55547/4280304698.py\u001b[0m in \u001b[0;36m<module>\u001b[0;34m\u001b[0m\n\u001b[0;32m----> 1\u001b[0;31m \u001b[0mbs\u001b[0m\u001b[0;34m.\u001b[0m\u001b[0mfind\u001b[0m\u001b[0;34m(\u001b[0m\u001b[0;34m'company-name'\u001b[0m\u001b[0;34m)\u001b[0m\u001b[0;34m.\u001b[0m\u001b[0mtext\u001b[0m\u001b[0;34m\u001b[0m\u001b[0;34m\u001b[0m\u001b[0m\n\u001b[0m",
      "\u001b[0;31mNameError\u001b[0m: name 'bs' is not defined"
     ]
    }
   ],
   "source": []
  }
 ],
 "metadata": {
  "kernelspec": {
   "display_name": "Python 3.9.13 ('ml_team_project')",
   "language": "python",
   "name": "python3"
  },
  "language_info": {
   "codemirror_mode": {
    "name": "ipython",
    "version": 3
   },
   "file_extension": ".py",
   "mimetype": "text/x-python",
   "name": "python",
   "nbconvert_exporter": "python",
   "pygments_lexer": "ipython3",
   "version": "3.9.13"
  },
  "orig_nbformat": 4,
  "vscode": {
   "interpreter": {
    "hash": "eecba4c216138c5a4dc47148ca01afe802778e2dcca1f91aad331c9df0e45a11"
   }
  }
 },
 "nbformat": 4,
 "nbformat_minor": 2
}
