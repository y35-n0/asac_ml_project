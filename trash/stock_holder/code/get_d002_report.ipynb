{
 "cells": [
  {
   "cell_type": "code",
   "execution_count": 1,
   "metadata": {},
   "outputs": [
    {
     "data": {
      "text/plain": [
       "(112, 9)"
      ]
     },
     "execution_count": 1,
     "metadata": {},
     "output_type": "execute_result"
    }
   ],
   "source": [
    "import pandas as pd\n",
    "\n",
    "report_list = pd.read_csv('../data/preprocessed/20210104_D002_list.csv',\n",
    "                          encoding='cp949',\n",
    "                          dtype=object\n",
    "                          )\n",
    "report_list.shape"
   ]
  },
  {
   "cell_type": "code",
   "execution_count": 2,
   "metadata": {},
   "outputs": [
    {
     "name": "stdout",
     "output_type": "stream",
     "text": [
      "<class 'pandas.core.frame.DataFrame'>\n",
      "RangeIndex: 112 entries, 0 to 111\n",
      "Data columns (total 9 columns):\n",
      " #   Column      Non-Null Count  Dtype \n",
      "---  ------      --------------  ----- \n",
      " 0   corp_code   112 non-null    object\n",
      " 1   corp_name   112 non-null    object\n",
      " 2   stock_code  112 non-null    object\n",
      " 3   corp_cls    112 non-null    object\n",
      " 4   report_nm   112 non-null    object\n",
      " 5   rcept_no    112 non-null    object\n",
      " 6   flr_nm      112 non-null    object\n",
      " 7   rcept_dt    112 non-null    object\n",
      " 8   rm          1 non-null      object\n",
      "dtypes: object(9)\n",
      "memory usage: 8.0+ KB\n"
     ]
    }
   ],
   "source": [
    "report_list.info()"
   ]
  },
  {
   "cell_type": "code",
   "execution_count": 3,
   "metadata": {},
   "outputs": [
    {
     "data": {
      "text/html": [
       "<div>\n",
       "<style scoped>\n",
       "    .dataframe tbody tr th:only-of-type {\n",
       "        vertical-align: middle;\n",
       "    }\n",
       "\n",
       "    .dataframe tbody tr th {\n",
       "        vertical-align: top;\n",
       "    }\n",
       "\n",
       "    .dataframe thead th {\n",
       "        text-align: right;\n",
       "    }\n",
       "</style>\n",
       "<table border=\"1\" class=\"dataframe\">\n",
       "  <thead>\n",
       "    <tr style=\"text-align: right;\">\n",
       "      <th></th>\n",
       "      <th>corp_code</th>\n",
       "      <th>corp_name</th>\n",
       "      <th>stock_code</th>\n",
       "      <th>corp_cls</th>\n",
       "      <th>report_nm</th>\n",
       "      <th>rcept_no</th>\n",
       "      <th>flr_nm</th>\n",
       "      <th>rcept_dt</th>\n",
       "      <th>rm</th>\n",
       "    </tr>\n",
       "  </thead>\n",
       "  <tbody>\n",
       "    <tr>\n",
       "      <th>0</th>\n",
       "      <td>01262023</td>\n",
       "      <td>루트락</td>\n",
       "      <td>253610</td>\n",
       "      <td>N</td>\n",
       "      <td>임원ㆍ주요주주특정증권등소유상황보고서</td>\n",
       "      <td>20210104000506</td>\n",
       "      <td>김성구</td>\n",
       "      <td>20210104</td>\n",
       "      <td>NaN</td>\n",
       "    </tr>\n",
       "    <tr>\n",
       "      <th>1</th>\n",
       "      <td>00291860</td>\n",
       "      <td>조광ILI</td>\n",
       "      <td>044060</td>\n",
       "      <td>K</td>\n",
       "      <td>임원ㆍ주요주주특정증권등소유상황보고서</td>\n",
       "      <td>20210104000504</td>\n",
       "      <td>이브이첨단소재</td>\n",
       "      <td>20210104</td>\n",
       "      <td>NaN</td>\n",
       "    </tr>\n",
       "    <tr>\n",
       "      <th>2</th>\n",
       "      <td>00927558</td>\n",
       "      <td>유바이오로직스</td>\n",
       "      <td>206650</td>\n",
       "      <td>K</td>\n",
       "      <td>[기재정정]임원ㆍ주요주주특정증권등소유상황보고서</td>\n",
       "      <td>20210104000502</td>\n",
       "      <td>전동운</td>\n",
       "      <td>20210104</td>\n",
       "      <td>NaN</td>\n",
       "    </tr>\n",
       "    <tr>\n",
       "      <th>3</th>\n",
       "      <td>01262023</td>\n",
       "      <td>루트락</td>\n",
       "      <td>253610</td>\n",
       "      <td>N</td>\n",
       "      <td>임원ㆍ주요주주특정증권등소유상황보고서</td>\n",
       "      <td>20210104000497</td>\n",
       "      <td>엘앤케이바이오</td>\n",
       "      <td>20210104</td>\n",
       "      <td>NaN</td>\n",
       "    </tr>\n",
       "    <tr>\n",
       "      <th>4</th>\n",
       "      <td>00190321</td>\n",
       "      <td>케이티</td>\n",
       "      <td>030200</td>\n",
       "      <td>Y</td>\n",
       "      <td>임원ㆍ주요주주특정증권등소유상황보고서</td>\n",
       "      <td>20210104000496</td>\n",
       "      <td>김봉기</td>\n",
       "      <td>20210104</td>\n",
       "      <td>NaN</td>\n",
       "    </tr>\n",
       "  </tbody>\n",
       "</table>\n",
       "</div>"
      ],
      "text/plain": [
       "  corp_code corp_name stock_code corp_cls                  report_nm  \\\n",
       "0  01262023       루트락     253610        N        임원ㆍ주요주주특정증권등소유상황보고서   \n",
       "1  00291860     조광ILI     044060        K        임원ㆍ주요주주특정증권등소유상황보고서   \n",
       "2  00927558   유바이오로직스     206650        K  [기재정정]임원ㆍ주요주주특정증권등소유상황보고서   \n",
       "3  01262023       루트락     253610        N        임원ㆍ주요주주특정증권등소유상황보고서   \n",
       "4  00190321       케이티     030200        Y        임원ㆍ주요주주특정증권등소유상황보고서   \n",
       "\n",
       "         rcept_no   flr_nm  rcept_dt   rm  \n",
       "0  20210104000506      김성구  20210104  NaN  \n",
       "1  20210104000504  이브이첨단소재  20210104  NaN  \n",
       "2  20210104000502      전동운  20210104  NaN  \n",
       "3  20210104000497  엘앤케이바이오  20210104  NaN  \n",
       "4  20210104000496      김봉기  20210104  NaN  "
      ]
     },
     "execution_count": 3,
     "metadata": {},
     "output_type": "execute_result"
    }
   ],
   "source": [
    "report_list.head()"
   ]
  },
  {
   "cell_type": "markdown",
   "metadata": {},
   "source": [
    "### Download data"
   ]
  },
  {
   "cell_type": "code",
   "execution_count": 10,
   "metadata": {},
   "outputs": [],
   "source": [
    "import os\n",
    "from dotenv import load_dotenv\n",
    "\n",
    "load_dotenv()\n",
    "\n",
    "API_KEY = os.environ.get('DART_API_KEY')"
   ]
  },
  {
   "cell_type": "code",
   "execution_count": 40,
   "metadata": {},
   "outputs": [],
   "source": [
    "from requests import Session\n",
    "from requests.adapters import HTTPAdapter\n",
    "from urllib3.util.retry import Retry\n",
    "\n",
    "session = Session()\n",
    "retry = Retry(connect=5, backoff_factor=0.5)\n",
    "adapter = HTTPAdapter(max_retries=retry)\n",
    "session.mount('https://', adapter)\n",
    "session.mount('http://', adapter)\n",
    "\n",
    "URL = 'https://opendart.fss.or.kr/api/document.xml'\n",
    "\n",
    "FILEPATH = '../data/origin/dart/reports/d002/'\n",
    "\n",
    "RAW_FILENAME = '{rcept_no}.{extension}'\n",
    "MY_FILENAME = '{corp_name}_d002_{rcept_no}.{extension}'"
   ]
  },
  {
   "cell_type": "code",
   "execution_count": 19,
   "metadata": {},
   "outputs": [],
   "source": [
    "def download_report(corp_name:str, rcept_no: str) -> bool:\n",
    "    # try:\n",
    "        params = {\n",
    "            'crtfc_key': API_KEY, \n",
    "            'rcept_no': rcept_no\n",
    "            }\n",
    "        \n",
    "        res = session.get(URL, params=params)\n",
    "        \n",
    "        filepath = FILEPATH + MY_FILENAME.format(corp_name=corp_name, rcept_no=rcept_no, extension='xml')\n",
    "        with open(filepath, 'wb') as f:\n",
    "            f.write(res.content)\n",
    "        \n",
    "        return True\n",
    "    # except:\n",
    "    #     return False"
   ]
  },
  {
   "cell_type": "code",
   "execution_count": 20,
   "metadata": {},
   "outputs": [],
   "source": [
    "for i, report in report_list.iterrows():\n",
    "    corp_name = report['corp_name']\n",
    "    rcept_no = report['rcept_no']\n",
    "    download_report(corp_name, rcept_no)"
   ]
  },
  {
   "cell_type": "markdown",
   "metadata": {},
   "source": [
    "## Extract data"
   ]
  },
  {
   "cell_type": "code",
   "execution_count": 57,
   "metadata": {},
   "outputs": [],
   "source": [
    "import os\n",
    "import re\n",
    "import zipfile\n",
    "from typing import *\n",
    "\n",
    "MY_PATTERN = r'([^_]+)_d002_(\\d+).zip'\n",
    "\n",
    "def get_name_and_report_code(filename: str) -> Tuple[str, str]:\n",
    "    name, report_code = re.search(MY_PATTERN, filename).groups()\n",
    "    return name, report_code\n",
    "    \n",
    "def extract_report(name: str, report_code: str)-> Tuple[str, str]:\n",
    "    zipfile.ZipFile(FILEPATH + MY_FILENAME.format(corp_name=name, rcept_no=report_code, extension='zip'))\\\n",
    "        .extractall(FILEPATH)\n",
    "    \n",
    "    return name, report_code\n",
    "\n",
    "def rename_report(name: str, report_code: str):\n",
    "    os.rename(FILEPATH + RAW_FILENAME.format(rcept_no=report_code, extension='xml'),\n",
    "              FILEPATH + MY_FILENAME.format(corp_name=name, rcept_no=report_code, extension='xml'))"
   ]
  },
  {
   "cell_type": "code",
   "execution_count": 58,
   "metadata": {},
   "outputs": [],
   "source": [
    "filenames = [filename for filename in os.listdir(FILEPATH) if filename[-4:] == '.zip']\n",
    "error = []\n",
    "\n",
    "for filename in filenames:\n",
    "    try:\n",
    "        name, report_code = get_name_and_report_code(filename)\n",
    "        extract_report(name, report_code)\n",
    "        rename_report(name, report_code)\n",
    "    except:\n",
    "        error.append((name, report_code))\n",
    "    # break"
   ]
  },
  {
   "cell_type": "code",
   "execution_count": 59,
   "metadata": {},
   "outputs": [
    {
     "ename": "NameError",
     "evalue": "name 'bs' is not defined",
     "output_type": "error",
     "traceback": [
      "\u001b[0;31m---------------------------------------------------------------------------\u001b[0m",
      "\u001b[0;31mNameError\u001b[0m                                 Traceback (most recent call last)",
      "\u001b[0;32m/var/folders/nj/m2b953jd03q1pw2v5dr67y380000gn/T/ipykernel_55547/4280304698.py\u001b[0m in \u001b[0;36m<module>\u001b[0;34m\u001b[0m\n\u001b[0;32m----> 1\u001b[0;31m \u001b[0mbs\u001b[0m\u001b[0;34m.\u001b[0m\u001b[0mfind\u001b[0m\u001b[0;34m(\u001b[0m\u001b[0;34m'company-name'\u001b[0m\u001b[0;34m)\u001b[0m\u001b[0;34m.\u001b[0m\u001b[0mtext\u001b[0m\u001b[0;34m\u001b[0m\u001b[0;34m\u001b[0m\u001b[0m\n\u001b[0m",
      "\u001b[0;31mNameError\u001b[0m: name 'bs' is not defined"
     ]
    }
   ],
   "source": []
  }
 ],
 "metadata": {
  "kernelspec": {
   "display_name": "Python 3.9.13 ('ml_team_project')",
   "language": "python",
   "name": "python3"
  },
  "language_info": {
   "codemirror_mode": {
    "name": "ipython",
    "version": 3
   },
   "file_extension": ".py",
   "mimetype": "text/x-python",
   "name": "python",
   "nbconvert_exporter": "python",
   "pygments_lexer": "ipython3",
   "version": "3.9.13"
  },
  "orig_nbformat": 4,
  "vscode": {
   "interpreter": {
    "hash": "eecba4c216138c5a4dc47148ca01afe802778e2dcca1f91aad331c9df0e45a11"
   }
  }
 },
 "nbformat": 4,
 "nbformat_minor": 2
}
